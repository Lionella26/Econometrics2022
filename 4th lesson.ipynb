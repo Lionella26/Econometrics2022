{
 "cells": [
  {
   "cell_type": "code",
   "execution_count": 1,
   "metadata": {},
   "outputs": [
    {
     "name": "stdout",
     "output_type": "stream",
     "text": [
      "2\n",
      "9\n",
      "[[1 2 3 4 5 6 7 8 9]]\n",
      "[[1. 1. 1.]\n",
      " [1. 1. 1.]\n",
      " [1. 1. 1.]]\n",
      "[[1. 0. 0. 0. 0.]\n",
      " [0. 1. 0. 0. 0.]\n",
      " [0. 0. 1. 0. 0.]\n",
      " [0. 0. 0. 1. 0.]\n",
      " [0. 0. 0. 0. 1.]]\n",
      "[[5 5 5]\n",
      " [5 5 5]\n",
      " [5 5 5]]\n",
      "[[1. 1. 1.]\n",
      " [1. 1. 1.]\n",
      " [1. 1. 1.]]\n",
      "[-1.47526055e+85  1.90156442e-34]\n",
      "[[11 13 15]\n",
      " [17 19 21]\n",
      " [23 25 27]]\n",
      "[[1 2 3]\n",
      " [7 8 9]]\n",
      "[4. 5. 6.]\n",
      "15\n",
      "[11 14 17]\n",
      "[11 12 13 14 15 16 17 18]\n",
      "[[ True  True  True]\n",
      " [ True False False]\n",
      " [False False False]]\n",
      "[4 8 2 0]\n",
      "[9 2 6]\n",
      "[67  4 23 44 12  7 88  6  0 65  2 17  1  2  3]\n",
      "[67 23 44 12  7 88  6 65 17]\n"
     ]
    }
   ],
   "source": [
    "import numpy as np\n",
    "\n",
    "\n",
    "matrix1 = np.array([(1,2,3),(4,5,6),(7,8,9)])\n",
    "\n",
    "matrix1.shape\n",
    "\n",
    "print(matrix1.ndim)\n",
    "\n",
    "print(matrix1.size)\n",
    "\n",
    "print(matrix1.reshape(1,9))\n",
    "\n",
    "print(np.ones((3,3)))\n",
    "\n",
    "print(np.eye(5))\n",
    "\n",
    "\n",
    "print(np.full((3,3),5))\n",
    "\n",
    "print(np.empty((3,3)))\n",
    "\n",
    "print(np.empty(2))\n",
    "\n",
    "matrix2 = np.array([(10,11,12),(13,14,15),(16,17,18)])\n",
    "\n",
    "print(matrix1+matrix2)\n",
    "\n",
    "\n",
    "print(np.delete(matrix1, 1, axis=0))\n",
    "\n",
    "print(np.mean(matrix1, axis=0))\n",
    "\n",
    "print(matrix2[1,2])\n",
    "print(matrix2[: , 1])\n",
    "print(matrix2[matrix2 > 10])\n",
    "print(matrix1 < 5)\n",
    "\n",
    "matrix3 = np.array([(1,4,7),(3,8,5),(9,2,6),(11,0,22)])\n",
    "print(matrix3[:,1])\n",
    "print(matrix3[2,:])\n",
    "\n",
    "\n",
    "matrix4 = np.array([(67,4,23),(44,12,7),(88,6,0),(65,2,17)])\n",
    "print(np.append(matrix4,np.array([1,2,3])))\n",
    "print(matrix4[matrix4 > 5])"
   ]
  },
  {
   "cell_type": "code",
   "execution_count": null,
   "metadata": {},
   "outputs": [],
   "source": []
  }
 ],
 "metadata": {
  "interpreter": {
   "hash": "8fac594bfae6525c0c41b4041d2d72effa188cc8ead05f81b1fab2bb098927fb"
  },
  "kernelspec": {
   "display_name": "Python 3.9.7 ('base')",
   "language": "python",
   "name": "python3"
  },
  "language_info": {
   "codemirror_mode": {
    "name": "ipython",
    "version": 3
   },
   "file_extension": ".py",
   "mimetype": "text/x-python",
   "name": "python",
   "nbconvert_exporter": "python",
   "pygments_lexer": "ipython3",
   "version": "3.9.7"
  },
  "orig_nbformat": 4
 },
 "nbformat": 4,
 "nbformat_minor": 2
}
