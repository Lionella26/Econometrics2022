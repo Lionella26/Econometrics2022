{
 "cells": [
  {
   "cell_type": "code",
   "execution_count": null,
   "metadata": {},
   "outputs": [],
   "source": [
    "import numpy as np\n",
    "arr1 = np.array([1,2,3,4,5])\n",
    "print(arr1.shape)\n",
    "\n",
    "arr1 = np.array([1,2,3,4,5], dtype=np.float)\n",
    "print(arr1.dtype)\n",
    "\n",
    "arr2 = np.arange(10,20)\n",
    "print(arr2)\n",
    "\n",
    "arr3 = np.arange(0,10,1.5)\n",
    "print(arr3)\n",
    "\n",
    "arr_random = np.random.random((10,))\n",
    "print(arr_random)\n",
    "\n",
    "arr2_sqrt=np.sqrt(arr2)\n",
    "print(arr2_sqrt)\n",
    "\n",
    "arr2_sin = np.sin(arr2)\n",
    "print(arr2_sin)\n",
    "\n",
    "arr4 = np.arange(10,20)\n",
    "print(arr4+arr2)\n",
    "print(arr4*arr2)\n",
    "print(arr4**3)\n",
    "print(arr4.max())\n",
    "print(arr4.mean())\n",
    "print(arr4.sum())\n",
    "print(arr4.std())\n",
    "print(arr4 > 14)\n",
    "print(arr4.ndim)\n",
    "print(np.insert(arr4, 5, 4))\n",
    "print(np.delete(arr4, 4))\n",
    "print(np.sort(arr4))\n",
    "\n",
    "arr5 = np.concatenate((arr1,arr2))\n",
    "print(arr5)\n",
    "\n",
    "print(arr5[(arr5 < 5)])\n",
    "print(arr5[(arr5 < 10) & (arr5 > 5)])\n",
    "print(arr5[(arr5 < 3) & (arr5 > 170)])"
   ]
  }
 ],
 "metadata": {
  "language_info": {
   "name": "python"
  },
  "orig_nbformat": 4
 },
 "nbformat": 4,
 "nbformat_minor": 2
}
