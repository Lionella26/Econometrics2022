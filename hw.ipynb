{
 "cells": [
  {
   "cell_type": "code",
   "execution_count": 1,
   "metadata": {},
   "outputs": [
    {
     "name": "stdout",
     "output_type": "stream",
     "text": [
      "[[ 51  70  12  30  92  93  73  52  51  48  64  85]\n",
      " [ 43  81  28  46  22  76  65  99  41  76   5  81]\n",
      " [ 64  95  62  99  57  87  56   8  50  41  16  99]\n",
      " [ 71  74  33  45  97  16   6  22  60  29  71  33]\n",
      " [ 27  64  83  16  46  17  44  76  52  90  79 100]\n",
      " [ 10  47  83  68  11  23  24  33  77  61  43  50]\n",
      " [ 73  68  75  26  13  91  59  15  48 100  74  21]\n",
      " [ 53  81  11  48  32  27  60  48  74  18  31  46]\n",
      " [ 75  52  88  15  81  30  66  73  59  92  61  48]\n",
      " [ 80  94  24  90  46  48  16  23  86  15  34  86]\n",
      " [ 17  58  85  65  14 100  11  30  91   1  35  91]\n",
      " [ 90  39  48  71   6  19  69  29  21  17  69  87]]\n",
      "[43 81 28 46 22 76 65 99 41 76  5 81]\n",
      "[92 22 57 97 46 11 13 32 81 46 14  6]\n",
      "[ 51  70  12  30  92  93  73  52  51  48  64  85  43  81  28  46  22  76\n",
      "  65  99  41  76  81  64  95  62  99  57  87  56   8  50  41  16  99  71\n",
      "  74  33  45  97  16   6  22  60  29  71  33  27  64  83  16  46  17  44\n",
      "  76  52  90  79 100  10  47  83  68  11  23  24  33  77  61  43  50  73\n",
      "  68  75  26  13  91  59  15  48 100  74  21  53  81  11  48  32  27  60\n",
      "  48  74  18  31  46  75  52  88  15  81  30  66  73  59  92  61  48  80\n",
      "  94  24  90  46  48  16  23  86  15  34  86  17  58  85  65  14 100  11\n",
      "  30  91  35  91  90  39  48  71   6  19  69  29  21  17  69  87]\n"
     ]
    }
   ],
   "source": [
    "import numpy as np\n",
    "from random import randint\n",
    "matrix1 = np.empty((12,12), int)\n",
    "matrix2 = np.empty((12,12), int)\n",
    "\n",
    "for i in range(0, 12):\n",
    "    for j in range(0,12):\n",
    "        matrix1[i][j] = randint(0,100)\n",
    "        matrix2[i][j] = randint(0,100)\n",
    "print(matrix1)\n",
    "\n",
    "optional_row = matrix1[1]\n",
    "optional_col = matrix1[:, 4]\n",
    "\n",
    "print(optional_row)\n",
    "print(optional_col)\n",
    "\n",
    "print(matrix1[matrix1 > 5])"
   ]
  },
  {
   "cell_type": "code",
   "execution_count": null,
   "metadata": {},
   "outputs": [],
   "source": []
  }
 ],
 "metadata": {
  "interpreter": {
   "hash": "8fac594bfae6525c0c41b4041d2d72effa188cc8ead05f81b1fab2bb098927fb"
  },
  "kernelspec": {
   "display_name": "Python 3.9.7 ('base')",
   "language": "python",
   "name": "python3"
  },
  "language_info": {
   "codemirror_mode": {
    "name": "ipython",
    "version": 3
   },
   "file_extension": ".py",
   "mimetype": "text/x-python",
   "name": "python",
   "nbconvert_exporter": "python",
   "pygments_lexer": "ipython3",
   "version": "3.9.7"
  },
  "orig_nbformat": 4
 },
 "nbformat": 4,
 "nbformat_minor": 2
}
