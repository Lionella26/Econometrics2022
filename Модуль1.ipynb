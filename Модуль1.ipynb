{
 "cells": [
  {
   "cell_type": "code",
   "execution_count": 6,
   "metadata": {},
   "outputs": [],
   "source": [
    "myDict = {'word': \"Econometrics\",\n",
    "'sentence' : \"If the implemetation is easy to explain,it may be a good idea.\",\n",
    "'big_list' : [\"python\", 3, \"anaconda\", 3.6, \"jupiter\", 10, \"lessons\", \"many\", 99],\n",
    "'empty_list':[]}"
   ]
  },
  {
   "cell_type": "code",
   "execution_count": 7,
   "metadata": {},
   "outputs": [],
   "source": [
    "#1,2\n",
    "if not myDict['word'].isupper():\n",
    "    myDict['word'] = \"Applied_\" + myDict['word'].upper()"
   ]
  },
  {
   "cell_type": "code",
   "execution_count": 8,
   "metadata": {},
   "outputs": [],
   "source": [
    "#3\n",
    "sentences = myDict['sentence'].split(\" \")\n",
    "sentences[2] = \"Violin\"\n",
    "new_sentence = \" \".join(sentences)\n",
    "myDict['sentence'] = new_sentence\n",
    "\n"
   ]
  },
  {
   "cell_type": "code",
   "execution_count": 9,
   "metadata": {},
   "outputs": [
    {
     "name": "stdout",
     "output_type": "stream",
     "text": [
      "p\n",
      "a\n",
      "j\n",
      "l\n",
      "m\n"
     ]
    }
   ],
   "source": [
    "#4\n",
    "for item in myDict['big_list']:\n",
    "    if type(item) ==str:\n",
    "        print(item[0])"
   ]
  },
  {
   "cell_type": "code",
   "execution_count": 10,
   "metadata": {},
   "outputs": [
    {
     "name": "stdout",
     "output_type": "stream",
     "text": [
      "112\n",
      "100\n"
     ]
    }
   ],
   "source": [
    "#5\n",
    "sum = 0\n",
    "for item in myDict['big_list']:\n",
    "    if type(item) == int:\n",
    "        sum+= item\n",
    "print(sum)\n",
    "sum1 = 0\n",
    "myDict['big_list'].remove(myDict['big_list'][-1])\n",
    "myDict['big_list'].append(87)\n",
    "for item in myDict['big_list']:\n",
    "    if type(item) == int:\n",
    "        sum1+= item\n",
    "print(sum1)"
   ]
  },
  {
   "cell_type": "code",
   "execution_count": 24,
   "metadata": {},
   "outputs": [
    {
     "name": "stdout",
     "output_type": "stream",
     "text": [
      "['python', 3, 3.6, 'many', 'jupiter', 10, 'lessons', 'anaconda', 87]\n"
     ]
    }
   ],
   "source": [
    "#6\n",
    "myDict['big_list'][7], myDict['big_list'][2] = myDict['big_list'][2],myDict['big_list'][7]\n",
    "print(myDict['big_list'])"
   ]
  },
  {
   "cell_type": "code",
   "execution_count": 20,
   "metadata": {},
   "outputs": [],
   "source": [
    "#7\n",
    "my_list = []\n",
    "count_odd = 0\n",
    "count_prime = 0\n",
    "for i in range(10,100):\n",
    "    my_list.append(i)"
   ]
  },
  {
   "cell_type": "code",
   "execution_count": 21,
   "metadata": {},
   "outputs": [],
   "source": [
    "for number in my_list:\n",
    "    if number % 2 == 0:\n",
    "        count_prime +=1\n",
    "    elif number % 2 == 1:\n",
    "        count_odd +=1"
   ]
  },
  {
   "cell_type": "code",
   "execution_count": 22,
   "metadata": {},
   "outputs": [
    {
     "name": "stdout",
     "output_type": "stream",
     "text": [
      "45 45\n"
     ]
    }
   ],
   "source": [
    "print(count_odd, count_prime)"
   ]
  },
  {
   "cell_type": "code",
   "execution_count": 23,
   "metadata": {},
   "outputs": [
    {
     "name": "stdout",
     "output_type": "stream",
     "text": [
      "Applied_ECONOMETRICS\n",
      "If the Violin is easy to explain,it may be a good idea.\n",
      "['python', 3, 'anaconda', 'many', 'jupiter', 10, 'lessons', 3.6, 87]\n",
      "[]\n"
     ]
    }
   ],
   "source": [
    "for key in myDict:\n",
    "    print(myDict[key])"
   ]
  },
  {
   "cell_type": "code",
   "execution_count": null,
   "metadata": {},
   "outputs": [],
   "source": []
  }
 ],
 "metadata": {
  "interpreter": {
   "hash": "8fac594bfae6525c0c41b4041d2d72effa188cc8ead05f81b1fab2bb098927fb"
  },
  "kernelspec": {
   "display_name": "Python 3.9.7 ('base')",
   "language": "python",
   "name": "python3"
  },
  "language_info": {
   "codemirror_mode": {
    "name": "ipython",
    "version": 3
   },
   "file_extension": ".py",
   "mimetype": "text/x-python",
   "name": "python",
   "nbconvert_exporter": "python",
   "pygments_lexer": "ipython3",
   "version": "3.9.7"
  },
  "orig_nbformat": 4
 },
 "nbformat": 4,
 "nbformat_minor": 2
}
